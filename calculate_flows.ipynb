{
 "cells": [
  {
   "cell_type": "code",
   "execution_count": 1,
   "metadata": {},
   "outputs": [],
   "source": []
  },
  {
   "cell_type": "code",
   "execution_count": 6,
   "metadata": {},
   "outputs": [
    {
     "name": "stdout",
     "output_type": "stream",
     "text": [
      "0.jpg\t 115.jpg  130.jpg  14.jpg  2.jpg   45.jpg  60.jpg  76.jpg  91.jpg\n",
      "100.jpg  116.jpg  131.jpg  15.jpg  30.jpg  46.jpg  61.jpg  77.jpg  92.jpg\n",
      "101.jpg  117.jpg  132.jpg  16.jpg  31.jpg  47.jpg  62.jpg  78.jpg  93.jpg\n",
      "102.jpg  118.jpg  133.jpg  17.jpg  32.jpg  48.jpg  63.jpg  79.jpg  94.jpg\n",
      "103.jpg  119.jpg  134.jpg  18.jpg  33.jpg  49.jpg  64.jpg  7.jpg   95.jpg\n",
      "104.jpg  11.jpg   135.jpg  19.jpg  34.jpg  4.jpg   65.jpg  80.jpg  96.jpg\n",
      "105.jpg  120.jpg  136.jpg  1.jpg   35.jpg  50.jpg  66.jpg  81.jpg  97.jpg\n",
      "106.jpg  121.jpg  137.jpg  20.jpg  36.jpg  51.jpg  67.jpg  82.jpg  98.jpg\n",
      "107.jpg  122.jpg  138.jpg  21.jpg  37.jpg  52.jpg  68.jpg  83.jpg  99.jpg\n",
      "108.jpg  123.jpg  139.jpg  22.jpg  38.jpg  53.jpg  69.jpg  84.jpg  9.jpg\n",
      "109.jpg  124.jpg  13.jpg   23.jpg  39.jpg  54.jpg  6.jpg   85.jpg\n",
      "10.jpg\t 125.jpg  140.jpg  24.jpg  3.jpg   55.jpg  70.jpg  86.jpg\n",
      "110.jpg  126.jpg  141.jpg  25.jpg  40.jpg  56.jpg  71.jpg  87.jpg\n",
      "111.jpg  127.jpg  142.jpg  26.jpg  41.jpg  57.jpg  72.jpg  88.jpg\n",
      "112.jpg  128.jpg  143.jpg  27.jpg  42.jpg  58.jpg  73.jpg  89.jpg\n",
      "113.jpg  129.jpg  144.jpg  28.jpg  43.jpg  59.jpg  74.jpg  8.jpg\n",
      "114.jpg  12.jpg   145.jpg  29.jpg  44.jpg  5.jpg   75.jpg  90.jpg\n"
     ]
    }
   ],
   "source": [
    "!ls \"/home/mlepekhin/train_frames_big/02NAI-ykpWk/\""
   ]
  },
  {
   "cell_type": "code",
   "execution_count": 36,
   "metadata": {},
   "outputs": [],
   "source": [
    "flow = compute_flow(\"/home/mlepekhin/train_frames_big/02NAI-ykpWk/0.jpg\", \"/home/mlepekhin/train_frames_big/02NAI-ykpWk/1.jpg\")"
   ]
  },
  {
   "cell_type": "code",
   "execution_count": 1,
   "metadata": {},
   "outputs": [],
   "source": []
  },
  {
   "cell_type": "code",
   "execution_count": 42,
   "metadata": {},
   "outputs": [],
   "source": [
    "def process_video(video_arg):\n",
    "    source_video, target_dir, box_relative_coord = video_arg\n",
    "    \n",
    "    vidcap = cv2.VideoCapture(source_video)\n",
    "\n",
    "#     success,image = vidcap.read()\n",
    "    success = True\n",
    "    count = 0\n",
    "\n",
    "    while success:\n",
    "        success,image = vidcap.read()\n",
    "        if success:\n",
    "            height, width = image.shape[0], image.shape[1]\n",
    "            top = round(box_relative_coord[0] * height)\n",
    "            left = round(box_relative_coord[1] * width)\n",
    "            bottom = round(box_relative_coord[2] * height)\n",
    "            right = round(box_relative_coord[3] * width)\n",
    "            image = image[top:bottom, left:right]\n",
    "            \n",
    "            image = cv2.resize(image, (224, 224))\n",
    "            cv2.imwrite(target_dir + '/' + str(count) + '.jpg', image)     # save frame as JPEG file\n",
    "        if not success:\n",
    "            print(\"not success\", count)\n",
    "            print(image)\n",
    "        count += 1\n",
    "        \n"
   ]
  },
  {
   "cell_type": "code",
   "execution_count": null,
   "metadata": {},
   "outputs": [],
   "source": [
    "# !mkdir /home/mlepekhin/train_frames_https\n",
    "# !mkdir /home/mlepekhin/train_frames_https"
   ]
  },
  {
   "cell_type": "code",
   "execution_count": 35,
   "metadata": {},
   "outputs": [
    {
     "name": "stdout",
     "output_type": "stream",
     "text": [
      "61\n"
     ]
    }
   ],
   "source": [
    "cap = cv2.VideoCapture('/home/mlepekhin/train/bDjiZ9Ngcfg.mp4')\n",
    "length = int(cap.get(cv2.CAP_PROP_FRAME_COUNT))\n",
    "print( length )"
   ]
  },
  {
   "cell_type": "code",
   "execution_count": 38,
   "metadata": {},
   "outputs": [
    {
     "data": {
      "text/plain": [
       "25.0"
      ]
     },
     "execution_count": 38,
     "metadata": {},
     "output_type": "execute_result"
    }
   ],
   "source": [
    "cap.get(cv2.CAP_PROP_FPS)"
   ]
  },
  {
   "cell_type": "code",
   "execution_count": 39,
   "metadata": {},
   "outputs": [
    {
     "name": "stdout",
     "output_type": "stream",
     "text": [
      "/home/vivanin/clones/inteligenceSystemsProject\r\n"
     ]
    }
   ],
   "source": [
    "!pwd"
   ]
  },
  {
   "cell_type": "code",
   "execution_count": 43,
   "metadata": {},
   "outputs": [
    {
     "name": "stdout",
     "output_type": "stream",
     "text": [
      "not success 61\n",
      "None\n"
     ]
    }
   ],
   "source": [
    "process_video(['/home/mlepekhin/train/bDjiZ9Ngcfg.mp4', \n",
    "               'test', \n",
    "               [0.0671529471874237, 0.28108179569244385, 1.0, 0.6669063568115234]\n",
    "              ])"
   ]
  },
  {
   "cell_type": "code",
   "execution_count": 22,
   "metadata": {},
   "outputs": [],
   "source": [
    "!cp /home/mlepekhin/train/bDjiZ9Ngcfg.mp4 test/"
   ]
  },
  {
   "cell_type": "code",
   "execution_count": 44,
   "metadata": {},
   "outputs": [
    {
     "name": "stdout",
     "output_type": "stream",
     "text": [
      "     62      62     433\r\n"
     ]
    }
   ],
   "source": [
    "!ls test | wc"
   ]
  },
  {
   "cell_type": "code",
   "execution_count": 4,
   "metadata": {},
   "outputs": [
    {
     "name": "stdout",
     "output_type": "stream",
     "text": [
      "     61      61     417\r\n"
     ]
    }
   ],
   "source": [
    "!ls /home/mlepekhin/train_frames_big/bDjiZ9Ngcfg/ | wc"
   ]
  },
  {
   "cell_type": "code",
   "execution_count": 1,
   "metadata": {},
   "outputs": [],
   "source": [
    "from split_frames import process_directory"
   ]
  },
  {
   "cell_type": "code",
   "execution_count": 2,
   "metadata": {},
   "outputs": [
    {
     "name": "stderr",
     "output_type": "stream",
     "text": [
      "100%|██████████| 984/984 [00:00<00:00, 22635.48it/s]\n"
     ]
    },
    {
     "data": {
      "application/vnd.jupyter.widget-view+json": {
       "model_id": "e21ce1b4521d414c99c7e4c009492d73",
       "version_major": 2,
       "version_minor": 0
      },
      "text/plain": [
       "HBox(children=(FloatProgress(value=0.0, max=984.0), HTML(value='')))"
      ]
     },
     "metadata": {},
     "output_type": "display_data"
    },
    {
     "name": "stdout",
     "output_type": "stream",
     "text": [
      "\n"
     ]
    }
   ],
   "source": [
    "process_directory('/home/mlepekhin/train', '/home/mlepekhin/train_frames_big', '/home/mlepekhin/MSASL_train.json')"
   ]
  },
  {
   "cell_type": "code",
   "execution_count": 3,
   "metadata": {},
   "outputs": [
    {
     "name": "stderr",
     "output_type": "stream",
     "text": [
      "100%|██████████| 305/305 [00:00<00:00, 17183.07it/s]\n"
     ]
    },
    {
     "data": {
      "application/vnd.jupyter.widget-view+json": {
       "model_id": "f31b859c04f04121ba87dda033b84da7",
       "version_major": 2,
       "version_minor": 0
      },
      "text/plain": [
       "HBox(children=(FloatProgress(value=0.0, max=305.0), HTML(value='')))"
      ]
     },
     "metadata": {},
     "output_type": "display_data"
    },
    {
     "name": "stdout",
     "output_type": "stream",
     "text": [
      "\n"
     ]
    },
    {
     "name": "stderr",
     "output_type": "stream",
     "text": [
      "100%|██████████| 250/250 [00:00<00:00, 33652.43it/s]\n"
     ]
    },
    {
     "data": {
      "application/vnd.jupyter.widget-view+json": {
       "model_id": "bc47ba5195104cb781525eb811e862b3",
       "version_major": 2,
       "version_minor": 0
      },
      "text/plain": [
       "HBox(children=(FloatProgress(value=0.0, max=250.0), HTML(value='')))"
      ]
     },
     "metadata": {},
     "output_type": "display_data"
    },
    {
     "name": "stdout",
     "output_type": "stream",
     "text": [
      "\n"
     ]
    }
   ],
   "source": [
    "process_directory('/home/mlepekhin/test', '/home/mlepekhin/test_frames_big', '/home/mlepekhin/MSASL_test.json')\n",
    "process_directory('/home/mlepekhin/val', '/home/mlepekhin/val_frames_big', '/home/mlepekhin/MSASL_val.json')"
   ]
  },
  {
   "cell_type": "code",
   "execution_count": 5,
   "metadata": {},
   "outputs": [],
   "source": [
    "import cv2\n",
    "#flow[:,:,0]"
   ]
  },
  {
   "cell_type": "code",
   "execution_count": 6,
   "metadata": {},
   "outputs": [],
   "source": [
    "import matplotlib.pyplot as plt\n",
    "import numpy as np"
   ]
  },
  {
   "cell_type": "code",
   "execution_count": 57,
   "metadata": {},
   "outputs": [
    {
     "data": {
      "text/plain": [
       "-0.02028934"
      ]
     },
     "execution_count": 57,
     "metadata": {},
     "output_type": "execute_result"
    }
   ],
   "source": [
    "flow[:,:,1].min()"
   ]
  },
  {
   "cell_type": "code",
   "execution_count": 58,
   "metadata": {},
   "outputs": [],
   "source": [
    "redone = np.stack([flow[:,:,1], flow[:,:,1], flow[:,:,1]]).transpose(1, 2, 0)"
   ]
  },
  {
   "cell_type": "code",
   "execution_count": 53,
   "metadata": {},
   "outputs": [
    {
     "name": "stderr",
     "output_type": "stream",
     "text": [
      "Clipping input data to the valid range for imshow with RGB data ([0..1] for floats or [0..255] for integers).\n"
     ]
    },
    {
     "data": {
      "text/plain": [
       "<matplotlib.image.AxesImage at 0x7ff170706690>"
      ]
     },
     "execution_count": 53,
     "metadata": {},
     "output_type": "execute_result"
    },
    {
     "data": {
      "image/png": "[encoded data removed]",
      "text/plain": [
       "<Figure size 432x288 with 1 Axes>"
      ]
     },
     "metadata": {
      "needs_background": "light"
     },
     "output_type": "display_data"
    }
   ],
   "source": [
    "plt.imshow(redone)"
   ]
  },
  {
   "cell_type": "code",
   "execution_count": 17,
   "metadata": {},
   "outputs": [],
   "source": [
    "im = Image.fromarray(flow[:,:,0])"
   ]
  },
  {
   "cell_type": "code",
   "execution_count": 5,
   "metadata": {},
   "outputs": [],
   "source": [
    "!mkdir \"/home/mlepekhin/train_frames_big/flow\""
   ]
  },
  {
   "cell_type": "code",
   "execution_count": 6,
   "metadata": {},
   "outputs": [],
   "source": [
    "!mkdir \"/home/mlepekhin/train_frames_big/flow/u\""
   ]
  },
  {
   "cell_type": "code",
   "execution_count": 7,
   "metadata": {},
   "outputs": [],
   "source": [
    "!mkdir \"/home/mlepekhin/train_frames_big/flow/v\""
   ]
  },
  {
   "cell_type": "code",
   "execution_count": 18,
   "metadata": {},
   "outputs": [],
   "source": [
    "import os\n",
    "import cv2\n",
    "import numpy as np\n",
    "# from pythonFlowCompute.compute_flow import compute_flow\n",
    "from PIL import Image\n",
    "\n",
    "\n",
    "def compute_flow(impath_1, impath_2):\n",
    "#     print(impath_1)\n",
    "    first_frame = cv2.imread(impath_1)\n",
    "\n",
    "    if first_frame is None:\n",
    "        print(\"Error reading frame:\", impath_1)\n",
    "        return None\n",
    "\n",
    "    resize_dim = 224\n",
    "    max_dim = max(first_frame.shape)\n",
    "    scale = resize_dim/max_dim\n",
    "\n",
    "    first_frame = cv2.resize(first_frame, None, fx=scale, fy=scale)\n",
    "    prev_gray = cv2.cvtColor(first_frame, cv2.COLOR_BGR2GRAY)\n",
    "\n",
    "    second_frame = cv2.imread(impath_2)\n",
    "\n",
    "    resize_dim = 224\n",
    "    max_dim = max(second_frame.shape)\n",
    "    scale = resize_dim/max_dim\n",
    "\n",
    "    second_frame = cv2.resize(second_frame, None, fx=scale, fy=scale)\n",
    "    next_gray = cv2.cvtColor(second_frame, cv2.COLOR_BGR2GRAY)\n",
    "\n",
    "\n",
    "\n",
    "    flow = cv2.calcOpticalFlowFarneback(prev_gray, next_gray, None, \n",
    "                                        pyr_scale = 0.5, \n",
    "                                        levels = 5, \n",
    "                                        winsize = 11, \n",
    "                                        iterations = 5, \n",
    "                                        poly_n = 5, \n",
    "                                        poly_sigma = 1.1, \n",
    "                                        flags = 0)\n",
    "\n",
    "    return flow\n",
    "\n",
    "def create_flow_for_dir(base_path, dirname):\n",
    "    global p\n",
    "    \n",
    "    dirpath = os.path.join(base_path, dirname)\n",
    "    \n",
    "    flowdir_u = os.path.join(os.path.join(os.path.join(base_path, \"flow\"), \"u\"), dirname)\n",
    "#     print(flowdir_u)\n",
    "    if not os.path.exists(flowdir_u):\n",
    "        os.mkdir(flowdir_u)\n",
    "    \n",
    "    flowdir_v = os.path.join(os.path.join(os.path.join(base_path, \"flow\"), \"v\"), dirname)\n",
    "#     print(flowdir_v)\n",
    "    if not os.path.exists(flowdir_v):\n",
    "        os.mkdir(flowdir_v)\n",
    "    \n",
    "    n = len(os.listdir(dirpath))\n",
    "    \n",
    "    def calc_flow_for_idx(i):\n",
    "        next_frame = i + 1\n",
    "        file1 = os.path.join(dirpath, f\"{i}.jpg\")\n",
    "        file2 = os.path.join(dirpath, f\"{next_frame}.jpg\")\n",
    "        \n",
    "        flow = compute_flow(file1, file2)\n",
    "        if flow is None:\n",
    "            print(\"Error flow in\", file1)\n",
    "            return\n",
    "        \n",
    "        def scale_flow(fl):\n",
    "            scaled_flow = fl\n",
    "            div = (scaled_flow.max() - scaled_flow.min())\n",
    "            div = div if not np.isclose(div, 0) else 1 \n",
    "            return  255 * (scaled_flow - scaled_flow.min()) / div \n",
    "        \n",
    "        scaled_flow = scale_flow(flow[:, :, 0])\n",
    "        im = Image.fromarray(scaled_flow)\n",
    "        im = im.convert('L')\n",
    "        flow_u = os.path.join(flowdir_u, f\"{i}.jpg\")\n",
    "        im.save(flow_u)\n",
    "        \n",
    "        scaled_flow = scale_flow(flow[:, :, 1])\n",
    "        im = Image.fromarray(scaled_flow)\n",
    "#         if im.mode != 'RGB':\n",
    "        im = im.convert('L')\n",
    "        flow_v = os.path.join(flowdir_v, f\"{i}.jpg\")\n",
    "        im.save(flow_v)\n",
    "    \n",
    "    p.map(calc_flow_for_idx, range(n - 1))\n",
    "    \n",
    "#     for i in range(n - 1):\n",
    "        "
   ]
  },
  {
   "cell_type": "code",
   "execution_count": 22,
   "metadata": {},
   "outputs": [],
   "source": [
    "import cv2\n",
    "im = cv2.imread(\"/home/mlepekhin/train_frames_big/AGm3ZL-ly0A/40.jpg\")"
   ]
  },
  {
   "cell_type": "code",
   "execution_count": 8,
   "metadata": {},
   "outputs": [],
   "source": [
    "from matplotlib import pyplot as plt"
   ]
  },
  {
   "cell_type": "code",
   "execution_count": 37,
   "metadata": {},
   "outputs": [],
   "source": [
    "# np.isclose"
   ]
  },
  {
   "cell_type": "code",
   "execution_count": 36,
   "metadata": {},
   "outputs": [
    {
     "name": "stdout",
     "output_type": "stream",
     "text": [
      "/home/mlepekhin/train_frames_big/58HG2sIrxS0/0.jpg/home/mlepekhin/train_frames_big/58HG2sIrxS0/1.jpg\n",
      "\n",
      "/home/mlepekhin/train_frames_big/58HG2sIrxS0/2.jpg/home/mlepekhin/train_frames_big/58HG2sIrxS0/3.jpg\n",
      "/home/mlepekhin/train_frames_big/58HG2sIrxS0/4.jpg\n",
      "/home/mlepekhin/train_frames_big/58HG2sIrxS0/5.jpg\n",
      "/home/mlepekhin/train_frames_big/58HG2sIrxS0/6.jpg\n",
      "/home/mlepekhin/train_frames_big/58HG2sIrxS0/7.jpg\n",
      "/home/mlepekhin/train_frames_big/58HG2sIrxS0/8.jpg\n",
      "/home/mlepekhin/train_frames_big/58HG2sIrxS0/9.jpg\n",
      "/home/mlepekhin/train_frames_big/58HG2sIrxS0/10.jpg\n",
      "/home/mlepekhin/train_frames_big/58HG2sIrxS0/11.jpg\n",
      "/home/mlepekhin/train_frames_big/58HG2sIrxS0/12.jpg\n",
      "/home/mlepekhin/train_frames_big/58HG2sIrxS0/13.jpg\n",
      "/home/mlepekhin/train_frames_big/58HG2sIrxS0/14.jpg\n",
      "/home/mlepekhin/train_frames_big/58HG2sIrxS0/15.jpg\n",
      "/home/mlepekhin/train_frames_big/58HG2sIrxS0/16.jpg\n",
      "/home/mlepekhin/train_frames_big/58HG2sIrxS0/17.jpg\n",
      "/home/mlepekhin/train_frames_big/58HG2sIrxS0/18.jpg\n",
      "/home/mlepekhin/train_frames_big/58HG2sIrxS0/19.jpg\n",
      "/home/mlepekhin/train_frames_big/58HG2sIrxS0/20.jpg\n",
      "\n",
      "/home/mlepekhin/train_frames_big/58HG2sIrxS0/21.jpg/home/mlepekhin/train_frames_big/58HG2sIrxS0/22.jpg\n",
      "\n",
      "/home/mlepekhin/train_frames_big/58HG2sIrxS0/23.jpg/home/mlepekhin/train_frames_big/58HG2sIrxS0/24.jpg\n",
      "\n",
      "/home/mlepekhin/train_frames_big/58HG2sIrxS0/25.jpg/home/mlepekhin/train_frames_big/58HG2sIrxS0/26.jpg\n",
      "\n",
      "/home/mlepekhin/train_frames_big/58HG2sIrxS0/27.jpg/home/mlepekhin/train_frames_big/58HG2sIrxS0/28.jpg\n",
      "/home/mlepekhin/train_frames_big/58HG2sIrxS0/29.jpg\n",
      "\n",
      "/home/mlepekhin/train_frames_big/58HG2sIrxS0/30.jpg\n",
      "/home/mlepekhin/train_frames_big/58HG2sIrxS0/31.jpg\n",
      "/home/mlepekhin/train_frames_big/58HG2sIrxS0/32.jpg/home/mlepekhin/train_frames_big/58HG2sIrxS0/33.jpg\n",
      "\n",
      "/home/mlepekhin/train_frames_big/58HG2sIrxS0/34.jpg\n",
      "/home/mlepekhin/train_frames_big/58HG2sIrxS0/35.jpg\n",
      "/home/mlepekhin/train_frames_big/58HG2sIrxS0/36.jpg\n",
      "/home/mlepekhin/train_frames_big/58HG2sIrxS0/37.jpg/home/mlepekhin/train_frames_big/58HG2sIrxS0/38.jpg/home/mlepekhin/train_frames_big/58HG2sIrxS0/39.jpg\n",
      "\n",
      "\n",
      "/home/mlepekhin/train_frames_big/58HG2sIrxS0/40.jpg/home/mlepekhin/train_frames_big/58HG2sIrxS0/41.jpg/home/mlepekhin/train_frames_big/58HG2sIrxS0/42.jpg/home/mlepekhin/train_frames_big/58HG2sIrxS0/43.jpg\n",
      "/home/mlepekhin/train_frames_big/58HG2sIrxS0/44.jpg\n",
      "/home/mlepekhin/train_frames_big/58HG2sIrxS0/45.jpg\n",
      "\n",
      "\n",
      "\n",
      "/home/mlepekhin/train_frames_big/58HG2sIrxS0/46.jpg/home/mlepekhin/train_frames_big/58HG2sIrxS0/47.jpg/home/mlepekhin/train_frames_big/58HG2sIrxS0/48.jpg\n",
      "\n",
      "/home/mlepekhin/train_frames_big/58HG2sIrxS0/49.jpg\n",
      "/home/mlepekhin/train_frames_big/58HG2sIrxS0/50.jpg\n",
      "\n",
      "/home/mlepekhin/train_frames_big/58HG2sIrxS0/51.jpg\n",
      "/home/mlepekhin/train_frames_big/58HG2sIrxS0/52.jpg\n",
      "/home/mlepekhin/train_frames_big/58HG2sIrxS0/53.jpg/home/mlepekhin/train_frames_big/58HG2sIrxS0/54.jpg/home/mlepekhin/train_frames_big/58HG2sIrxS0/55.jpg/home/mlepekhin/train_frames_big/58HG2sIrxS0/56.jpg\n",
      "\n",
      "\n",
      "/home/mlepekhin/train_frames_big/58HG2sIrxS0/57.jpg\n",
      "/home/mlepekhin/train_frames_big/58HG2sIrxS0/58.jpg/home/mlepekhin/train_frames_big/58HG2sIrxS0/59.jpg\n",
      "\n",
      "\n",
      "/home/mlepekhin/train_frames_big/58HG2sIrxS0/60.jpg\n",
      "/home/mlepekhin/train_frames_big/58HG2sIrxS0/61.jpg\n",
      "/home/mlepekhin/train_frames_big/58HG2sIrxS0/62.jpg\n",
      "/home/mlepekhin/train_frames_big/58HG2sIrxS0/63.jpg\n",
      "/home/mlepekhin/train_frames_big/58HG2sIrxS0/64.jpg\n",
      "/home/mlepekhin/train_frames_big/58HG2sIrxS0/65.jpg\n",
      "/home/mlepekhin/train_frames_big/58HG2sIrxS0/66.jpg\n",
      "/home/mlepekhin/train_frames_big/58HG2sIrxS0/67.jpg/home/mlepekhin/train_frames_big/58HG2sIrxS0/68.jpg\n",
      "\n",
      "/home/mlepekhin/train_frames_big/58HG2sIrxS0/69.jpg\n",
      "/home/mlepekhin/train_frames_big/58HG2sIrxS0/70.jpg\n",
      "/home/mlepekhin/train_frames_big/58HG2sIrxS0/71.jpg/home/mlepekhin/train_frames_big/58HG2sIrxS0/72.jpg/home/mlepekhin/train_frames_big/58HG2sIrxS0/73.jpg\n",
      "\n",
      "\n",
      "/home/mlepekhin/train_frames_big/58HG2sIrxS0/74.jpg\n",
      "/home/mlepekhin/train_frames_big/58HG2sIrxS0/75.jpg\n",
      "/home/mlepekhin/train_frames_big/58HG2sIrxS0/76.jpg\n",
      "/home/mlepekhin/train_frames_big/58HG2sIrxS0/77.jpg\n",
      "/home/mlepekhin/train_frames_big/58HG2sIrxS0/78.jpg\n",
      "/home/mlepekhin/train_frames_big/58HG2sIrxS0/79.jpg/home/mlepekhin/train_frames_big/58HG2sIrxS0/80.jpg\n",
      "\n",
      "/home/mlepekhin/train_frames_big/58HG2sIrxS0/81.jpg/home/mlepekhin/train_frames_big/58HG2sIrxS0/82.jpg\n",
      "\n",
      "/home/mlepekhin/train_frames_big/58HG2sIrxS0/83.jpg/home/mlepekhin/train_frames_big/58HG2sIrxS0/84.jpg\n",
      "\n",
      "/home/mlepekhin/train_frames_big/58HG2sIrxS0/85.jpg/home/mlepekhin/train_frames_big/58HG2sIrxS0/86.jpg\n",
      "/home/mlepekhin/train_frames_big/58HG2sIrxS0/87.jpg\n",
      "\n",
      "/home/mlepekhin/train_frames_big/58HG2sIrxS0/88.jpg/home/mlepekhin/train_frames_big/58HG2sIrxS0/89.jpg\n",
      "/home/mlepekhin/train_frames_big/58HG2sIrxS0/90.jpg\n",
      "/home/mlepekhin/train_frames_big/58HG2sIrxS0/91.jpg/home/mlepekhin/train_frames_big/58HG2sIrxS0/92.jpg/home/mlepekhin/train_frames_big/58HG2sIrxS0/93.jpg\n",
      "\n",
      "\n",
      "\n",
      "/home/mlepekhin/train_frames_big/58HG2sIrxS0/94.jpg\n",
      "/home/mlepekhin/train_frames_big/58HG2sIrxS0/95.jpg\n",
      "/home/mlepekhin/train_frames_big/58HG2sIrxS0/96.jpg\n",
      "/home/mlepekhin/train_frames_big/58HG2sIrxS0/97.jpg\n",
      "/home/mlepekhin/train_frames_big/58HG2sIrxS0/98.jpg\n",
      "/home/mlepekhin/train_frames_big/58HG2sIrxS0/99.jpg\n",
      "/home/mlepekhin/train_frames_big/58HG2sIrxS0/100.jpg\n",
      "/home/mlepekhin/train_frames_big/58HG2sIrxS0/101.jpg\n",
      "/home/mlepekhin/train_frames_big/58HG2sIrxS0/102.jpg\n",
      "/home/mlepekhin/train_frames_big/58HG2sIrxS0/103.jpg\n",
      "/home/mlepekhin/train_frames_big/58HG2sIrxS0/104.jpg\n",
      "/home/mlepekhin/train_frames_big/58HG2sIrxS0/105.jpg\n",
      "/home/mlepekhin/train_frames_big/58HG2sIrxS0/106.jpg/home/mlepekhin/train_frames_big/58HG2sIrxS0/107.jpg\n",
      "/home/mlepekhin/train_frames_big/58HG2sIrxS0/108.jpg\n",
      "/home/mlepekhin/train_frames_big/58HG2sIrxS0/109.jpg\n",
      "\n",
      "/home/mlepekhin/train_frames_big/58HG2sIrxS0/110.jpg\n",
      "/home/mlepekhin/train_frames_big/58HG2sIrxS0/111.jpg\n",
      "/home/mlepekhin/train_frames_big/58HG2sIrxS0/112.jpg/home/mlepekhin/train_frames_big/58HG2sIrxS0/113.jpg\n",
      "\n",
      "/home/mlepekhin/train_frames_big/58HG2sIrxS0/114.jpg/home/mlepekhin/train_frames_big/58HG2sIrxS0/115.jpg\n",
      "\n",
      "/home/mlepekhin/train_frames_big/58HG2sIrxS0/116.jpg\n",
      "/home/mlepekhin/train_frames_big/58HG2sIrxS0/117.jpg\n",
      "/home/mlepekhin/train_frames_big/58HG2sIrxS0/118.jpg\n"
     ]
    }
   ],
   "source": [
    "create_flow_for_dir(\"/home/mlepekhin/train_frames_big/\", \"58HG2sIrxS0\")"
   ]
  },
  {
   "cell_type": "code",
   "execution_count": 31,
   "metadata": {},
   "outputs": [
    {
     "name": "stdout",
     "output_type": "stream",
     "text": [
      "ls: cannot access '/home/mlepekhin/train_frames_big/flow/u/AGm3ZL-ly0A': No such file or directory\n"
     ]
    }
   ],
   "source": [
    "!ls /home/mlepekhin/train_frames_big/flow/u/AGm3ZL-ly0A"
   ]
  },
  {
   "cell_type": "code",
   "execution_count": 12,
   "metadata": {},
   "outputs": [],
   "source": []
  },
  {
   "cell_type": "code",
   "execution_count": 20,
   "metadata": {},
   "outputs": [],
   "source": [
    "# !ls /home/mlepekhin/train_frames_big/"
   ]
  },
  {
   "cell_type": "code",
   "execution_count": 9,
   "metadata": {},
   "outputs": [],
   "source": [
    "train_dir = \"/home/mlepekhin/train_frames_big/\""
   ]
  },
  {
   "cell_type": "code",
   "execution_count": 5,
   "metadata": {},
   "outputs": [],
   "source": [
    "# import time\n",
    "\n",
    "# for i in tqdm(range(10)):\n",
    "#     time.sleep(0.1)"
   ]
  },
  {
   "cell_type": "code",
   "execution_count": 13,
   "metadata": {},
   "outputs": [],
   "source": [
    "from multiprocessing.pool import ThreadPool\n",
    "from tqdm import tqdm\n",
    "p = ThreadPool(30)"
   ]
  },
  {
   "cell_type": "code",
   "execution_count": 11,
   "metadata": {},
   "outputs": [
    {
     "name": "stdout",
     "output_type": "stream",
     "text": [
      "mkdir: cannot create directory ‘/home/mlepekhin/train_frames_big/flow’: File exists\n",
      "mkdir: cannot create directory ‘/home/mlepekhin/train_frames_big/flow/u’: File exists\n",
      "mkdir: cannot create directory ‘/home/mlepekhin/train_frames_big/flow/v’: File exists\n"
     ]
    }
   ],
   "source": [
    "!mkdir \"/home/mlepekhin/train_frames_big/flow\"\n",
    "!mkdir \"/home/mlepekhin/train_frames_big/flow/u\"\n",
    "!mkdir \"/home/mlepekhin/train_frames_big/flow/v\""
   ]
  },
  {
   "cell_type": "code",
   "execution_count": 19,
   "metadata": {},
   "outputs": [
    {
     "name": "stderr",
     "output_type": "stream",
     "text": [
      "100%|██████████| 985/985 [2:33:16<00:00,  9.34s/it]  \n"
     ]
    }
   ],
   "source": [
    "for subdir in tqdm(os.listdir(train_dir)):\n",
    "    if subdir != \"flow\":\n",
    "        flowdir_u = os.path.join(os.path.join(os.path.join(train_dir, \"flow\"), \"u\"), subdir)\n",
    "        flowdir_v = os.path.join(os.path.join(os.path.join(train_dir, \"flow\"), \"v\"), subdir)\n",
    "        if not os.path.exists(flowdir_u) or not os.path.exists(flowdir_v):\n",
    "            create_flow_for_dir(train_dir, subdir)"
   ]
  },
  {
   "cell_type": "code",
   "execution_count": 20,
   "metadata": {},
   "outputs": [],
   "source": [
    "test_dir = \"/home/mlepekhin/test_frames_big/\""
   ]
  },
  {
   "cell_type": "code",
   "execution_count": 21,
   "metadata": {},
   "outputs": [],
   "source": [
    "!mkdir \"/home/mlepekhin/test_frames_big/flow\"\n",
    "!mkdir \"/home/mlepekhin/test_frames_big/flow/u\"\n",
    "!mkdir \"/home/mlepekhin/test_frames_big/flow/v\""
   ]
  },
  {
   "cell_type": "code",
   "execution_count": 22,
   "metadata": {},
   "outputs": [
    {
     "name": "stderr",
     "output_type": "stream",
     "text": [
      "100%|██████████| 306/306 [37:32<00:00,  7.36s/it]  \n"
     ]
    }
   ],
   "source": [
    "for subdir in tqdm(os.listdir(test_dir)):\n",
    "    if subdir != \"flow\":\n",
    "        flowdir_u = os.path.join(os.path.join(os.path.join(test_dir, \"flow\"), \"u\"), subdir)\n",
    "        if not os.path.exists(flowdir_u):\n",
    "            create_flow_for_dir(test_dir, subdir)"
   ]
  },
  {
   "cell_type": "code",
   "execution_count": 23,
   "metadata": {},
   "outputs": [],
   "source": [
    "val_dir = \"/home/mlepekhin/val_frames_big//\""
   ]
  },
  {
   "cell_type": "code",
   "execution_count": 24,
   "metadata": {},
   "outputs": [],
   "source": [
    "!mkdir \"/home/mlepekhin/val_frames_big/flow\"\n",
    "!mkdir \"/home/mlepekhin/val_frames_big/flow/u\"\n",
    "!mkdir \"/home/mlepekhin/val_frames_big/flow/v\""
   ]
  },
  {
   "cell_type": "code",
   "execution_count": 25,
   "metadata": {},
   "outputs": [
    {
     "name": "stderr",
     "output_type": "stream",
     "text": [
      "100%|██████████| 251/251 [44:19<00:00, 10.60s/it]  \n"
     ]
    }
   ],
   "source": [
    "for subdir in tqdm(os.listdir(val_dir)):\n",
    "    if subdir != \"flow\":\n",
    "        flowdir_u = os.path.join(os.path.join(os.path.join(test_dir, \"flow\"), \"u\"), subdir)\n",
    "        if not os.path.exists(flowdir_u):\n",
    "            create_flow_for_dir(val_dir, subdir)"
   ]
  },
  {
   "cell_type": "code",
   "execution_count": 26,
   "metadata": {},
   "outputs": [
    {
     "name": "stdout",
     "output_type": "stream",
     "text": [
      "    943     943    7434\r\n"
     ]
    }
   ],
   "source": [
    "!ls /home/mlepekhin/train_frames_big/Fef0GDkOO6k | wc"
   ]
  },
  {
   "cell_type": "code",
   "execution_count": 34,
   "metadata": {},
   "outputs": [
    {
     "name": "stdout",
     "output_type": "stream",
     "text": [
      "    942     942    7426\r\n"
     ]
    }
   ],
   "source": [
    "!ls /home/mlepekhin/train_frames_big/flow/v/nwQh3qvE4EA/ | wc"
   ]
  },
  {
   "cell_type": "code",
   "execution_count": 35,
   "metadata": {},
   "outputs": [],
   "source": [
    "create_flow_for_dir(train_dir, 'nwQh3qvE4EA')"
   ]
  },
  {
   "cell_type": "code",
   "execution_count": 36,
   "metadata": {},
   "outputs": [],
   "source": [
    "csv_file = 'result.csv'"
   ]
  },
  {
   "cell_type": "code",
   "execution_count": null,
   "metadata": {},
   "outputs": [],
   "source": [
    "category2idx = dict()\n",
    "\n",
    "names = []\n",
    "pred_labels = []\n",
    "true_labels = []\n",
    "\n",
    "with open(csv_file) as f:\n",
    "    for line in f.readlines():\n",
    "        dirname, label, true_label = f.split(';')\n",
    "        names.append(dirname)\n",
    "        if label not in category2idx:\n",
    "            newIdx = len(category2idx)\n",
    "            category2idx[label] = newIdx\n",
    "        \n",
    "        if true_label not in category2idx:\n",
    "            newIdx = len(category2idx)\n",
    "            category2idx[true_label] = newIdx\n",
    "        \n",
    "        pred_labels.append(category2idx[label])\n",
    "        true_labels.append(category2idx[true_label])\n",
    "        \n",
    "idx2category = {idx:name for name, idx in category2idx.items()}"
   ]
  },
  {
   "cell_type": "code",
   "execution_count": null,
   "metadata": {},
   "outputs": [],
   "source": [
    "from sklearn.metrics import confusion_matrix\n",
    "import numpy as np\n",
    "\n",
    "cm = confusion_matrix(true_labels, pred_labels)\n",
    "cm = cm.astype('float') / cm.sum(axis=1)[:, np.newaxis]"
   ]
  },
  {
   "cell_type": "code",
   "execution_count": 37,
   "metadata": {},
   "outputs": [
    {
     "ename": "NameError",
     "evalue": "name 'cm' is not defined",
     "output_type": "error",
     "traceback": [
      "\u001b[0;31m---------------------------------------------------------------------------\u001b[0m",
      "\u001b[0;31mNameError\u001b[0m                                 Traceback (most recent call last)",
      "\u001b[0;32m<ipython-input-37-e43aae6f523f>\u001b[0m in \u001b[0;36m<module>\u001b[0;34m\u001b[0m\n\u001b[0;32m----> 1\u001b[0;31m \u001b[0;32mfor\u001b[0m \u001b[0midx\u001b[0m\u001b[0;34m,\u001b[0m \u001b[0macc\u001b[0m \u001b[0;32min\u001b[0m \u001b[0menumerate\u001b[0m\u001b[0;34m(\u001b[0m\u001b[0mcm\u001b[0m\u001b[0;34m.\u001b[0m\u001b[0mdiagonal\u001b[0m\u001b[0;34m(\u001b[0m\u001b[0;34m)\u001b[0m\u001b[0;34m)\u001b[0m\u001b[0;34m:\u001b[0m\u001b[0;34m\u001b[0m\u001b[0;34m\u001b[0m\u001b[0m\n\u001b[0m\u001b[1;32m      2\u001b[0m     \u001b[0mprint\u001b[0m\u001b[0;34m(\u001b[0m\u001b[0midx2category\u001b[0m\u001b[0;34m[\u001b[0m\u001b[0midx\u001b[0m\u001b[0;34m]\u001b[0m\u001b[0;34m,\u001b[0m \u001b[0macc\u001b[0m\u001b[0;34m)\u001b[0m\u001b[0;34m\u001b[0m\u001b[0;34m\u001b[0m\u001b[0m\n",
      "\u001b[0;31mNameError\u001b[0m: name 'cm' is not defined"
     ]
    }
   ],
   "source": [
    "for idx, acc in enumerate(cm.diagonal()):\n",
    "    print(idx2category[idx], acc)"
   ]
  },
  {
   "cell_type": "code",
   "execution_count": null,
   "metadata": {},
   "outputs": [],
   "source": []
  }
 ],
 "metadata": {
  "kernelspec": {
   "display_name": "gester-recognition",
   "language": "python",
   "name": "gester-recognition"
  },
  "language_info": {
   "codemirror_mode": {
    "name": "ipython",
    "version": 3
   },
   "file_extension": ".py",
   "mimetype": "text/x-python",
   "name": "python",
   "nbconvert_exporter": "python",
   "pygments_lexer": "ipython3",
   "version": "3.7.6"
  }
 },
 "nbformat": 4,
 "nbformat_minor": 4
}
